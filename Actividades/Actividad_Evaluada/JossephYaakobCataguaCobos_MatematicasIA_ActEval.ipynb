{
 "cells": [
  {
   "cell_type": "markdown",
   "id": "a6e0e050-ca93-4242-9987-74c074d47645",
   "metadata": {},
   "source": [
    "# Matemáticas para la Inteligencia Artificial - Actividad Evaluada\n",
    "\n",
    "Nombre: ***Josseph Yaakob Catagua Cobos*** <br>\n",
    "\n",
    "https://github.com/HikariJY/02MIAR_04_A_2024-25_Matematicas-para-la-Inteligencia-Artificial"
   ]
  },
  {
   "cell_type": "markdown",
   "id": "95064b50-14d9-4350-9124-b7cc50dfb000",
   "metadata": {},
   "source": [
    "## Ejercicios Evaluados"
   ]
  },
  {
   "cell_type": "code",
   "execution_count": 1,
   "id": "a5c276ab-1697-4b48-8cce-7cd2f91abb2a",
   "metadata": {},
   "outputs": [],
   "source": [
    "import numpy as np\n",
    "import math\n",
    "import itertools\n",
    "import time\n",
    "import pandas as pd\n",
    "import sympy as sp"
   ]
  },
  {
   "cell_type": "code",
   "execution_count": 2,
   "id": "a4d0819f-de25-448b-9751-31acca34e238",
   "metadata": {},
   "outputs": [],
   "source": [
    "def matriz_entera_cuadrada_random(min_value:int=-10, max_value:int=10, size_matrix:int=3, type_matrix:int=0) -> np.array:\n",
    "    if size_matrix < 1:\n",
    "        raise ValueError('La matriz no puede tener 0 elementos o menos.')\n",
    "    elif type_matrix > 3 and type_matrix < 0:\n",
    "        raise ValueError('El tipo de matriz debe ser:\\n0) Matriz completa.\\n1) Matriz daigonal.\\n2) Matriz triangular superior.\\n3) Matriz triangular inferior.')\n",
    "    else:\n",
    "        matrix = np.random.randint(min_value, max_value, size=(size_matrix, size_matrix)) # Matriz aleatoria\n",
    "        if type_matrix == 1:\n",
    "            matrix = np.diag(np.diag(matrix)) # Matriz diagonal\n",
    "        elif type_matrix == 2:\n",
    "            matrix = np.triu(matrix) # Matriz triangular superior\n",
    "        elif type_matrix == 3:\n",
    "            matrix = np.tril(matrix) # Matriz triangular inferior\n",
    "        return matrix.astype(float)"
   ]
  },
  {
   "cell_type": "code",
   "execution_count": 3,
   "id": "bb3be6e2-efc3-46eb-a227-07a422059182",
   "metadata": {},
   "outputs": [
    {
     "name": "stdout",
     "output_type": "stream",
     "text": [
      "\n",
      "Matriz completa de (3, 3):\n",
      " [[ -8. -10. -10.]\n",
      " [  5.  -4. -10.]\n",
      " [ -4.   8.  -7.]]\n",
      "\n",
      "Matriz diagonal de (3, 3):\n",
      " [[-2.  0.  0.]\n",
      " [ 0.  3.  0.]\n",
      " [ 0.  0.  6.]]\n",
      "\n",
      "Matriz triangular superior de (3, 3):\n",
      " [[ 9. -6.  1.]\n",
      " [ 0. -9. -4.]\n",
      " [ 0.  0.  5.]]\n",
      "\n",
      "Matriz triangular inferior de (3, 3):\n",
      " [[-5.  0.  0.]\n",
      " [-1. -5.  0.]\n",
      " [ 4.  5. -5.]]\n"
     ]
    }
   ],
   "source": [
    "# EJEMPLO\n",
    "A = matriz_entera_cuadrada_random(min_value=-10, max_value=10, size_matrix=3, type_matrix=0)\n",
    "print(f'\\nMatriz completa de {A.shape}:\\n {A}')\n",
    "A = matriz_entera_cuadrada_random(min_value=-10, max_value=10, size_matrix=3, type_matrix=1)\n",
    "print(f'\\nMatriz diagonal de {A.shape}:\\n {A}')\n",
    "A = matriz_entera_cuadrada_random(min_value=-10, max_value=10, size_matrix=3, type_matrix=2)\n",
    "print(f'\\nMatriz triangular superior de {A.shape}:\\n {A}')\n",
    "A = matriz_entera_cuadrada_random(min_value=-10, max_value=10, size_matrix=3, type_matrix=3)\n",
    "print(f'\\nMatriz triangular inferior de {A.shape}:\\n {A}')"
   ]
  },
  {
   "cell_type": "markdown",
   "id": "77c11f2b-a181-4e8a-9287-e232f4d7b417",
   "metadata": {},
   "source": [
    "1. Tal y como ya hemos visto en clase, la variedad de herramientas proporcionadas por el álgebra lineal son cruciales para desarrollar y fundamentar las bases de una variedad de técnicas relacionadas con el aprendizaje autom´atico. Con ella, podemos describir el proceso de propagación hacia adelante en una red neuronal, identificar mínimos locales en funciones multivariables (crucial para el proceso de retropropagación) o la descripción y empleo de métodos de reducción de la dimensionalidad, como el análisis de componentes principales (PCA), entre muchas otras aplicaciones. <br> <br>\n",
    "Cuando trabajamos en la práctica dentro de este ámbito, la cantidad de datos que manejamos puede ser muy grande, por lo que es especialmente importante emplear algoritmos eficientes y optimizados para reducir el coste computacional en la medida de lo posible. Por todo ello, el objetivo de este ejercicio es el de ilustrar las diferentes alternativas que pueden existir para realizar un proceso relacionado con el álgebra lineal y el impacto que puede tener cada variante en términos del coste computacional del mismo. En este caso en particular, y a modo de ilustración, nos centraremos en el cálculo del determinante de una matriz."
   ]
  },
  {
   "cell_type": "markdown",
   "id": "db55a9eb-2e9c-463c-a4a4-a29d857d05c7",
   "metadata": {},
   "source": [
    "a) [1 punto] Implementa una función, `determinante_recursivo` , que obtenga el determinante de una matriz cuadrada utilizando la definición recursiva de Laplace."
   ]
  },
  {
   "cell_type": "code",
   "execution_count": 4,
   "id": "f1f216ea-05d5-4372-83f3-0fdf371df9a0",
   "metadata": {},
   "outputs": [],
   "source": [
    "def determinante_recursivo(matrix:np.array) -> float:\n",
    "    # Comprobar si la matriz es cuadrada\n",
    "    n, m = matrix.shape\n",
    "    if n != m: raise ValueError(\"La matriz debe ser cuadrada.\")\n",
    "    # Caso base: si la matriz es 1x1, el determinante es el único elemento\n",
    "    if n == 1:\n",
    "        return matrix[0, 0]\n",
    "    # Caso base: si la matriz es 2x2, aplicar la fórmula del determinante directamente\n",
    "    if n == 2:\n",
    "        return matrix[0, 0] * matrix[1, 1] - matrix[0, 1] * matrix[1, 0]\n",
    "    # Calcular el determinante recursivamente usando la expansión de Laplace\n",
    "    det = 0\n",
    "    for c in range(n):\n",
    "        # Crear el menor eliminando la primera fila y la columna c\n",
    "        minor = np.delete(np.delete(matrix, 0, axis=0), c, axis=1)\n",
    "        # Aplicar la definición recursiva de Laplace\n",
    "        det += ((-1) ** c) * matrix[0, c] * determinante_recursivo(minor)\n",
    "    return det"
   ]
  },
  {
   "cell_type": "code",
   "execution_count": 5,
   "id": "2714f6d5-bc1a-40b2-b396-e701e61aa2df",
   "metadata": {},
   "outputs": [
    {
     "name": "stdout",
     "output_type": "stream",
     "text": [
      "\n",
      "Para la matriz de (3, 3):\n",
      "[[-7. -4. -6.]\n",
      " [ 4. -5. -3.]\n",
      " [ 2.  6.  3.]]\n",
      "El determinante es: -153.0.\n",
      "\n"
     ]
    }
   ],
   "source": [
    "# EJEMPLO\n",
    "A = matriz_entera_cuadrada_random(min_value=-10, max_value=10, size_matrix=3, type_matrix=0)\n",
    "det = determinante_recursivo(matrix=A)\n",
    "print(f'\\nPara la matriz de {A.shape}:\\n{A}\\nEl determinante es: {det}.\\n')"
   ]
  },
  {
   "cell_type": "markdown",
   "id": "f352876b-5569-4c18-86c2-c8999a4efd6b",
   "metadata": {},
   "source": [
    "b) [0.5 puntos] Si $A$ es una matriz cuadrada $n×n$ y triangular (superior o inferior, es decir, con entradas nulas por debajo o por encima de la diagonal, respectivamente), ¿existe alguna forma de calcular de forma directa y sencilla su determinante? Justifíquese la respuesta."
   ]
  },
  {
   "cell_type": "code",
   "execution_count": 6,
   "id": "255ec6fc-4fbd-4247-8330-16acfb81e1b2",
   "metadata": {},
   "outputs": [],
   "source": [
    "def determinante_matriz_triangular(matrix:np.array) -> float:\n",
    "    n, m = matrix.shape\n",
    "    if n != m:\n",
    "        raise ValueError(\"La matriz debe ser cuadrada.\")\n",
    "    elif n < 1:\n",
    "        raise ValueError(\"La matriz debe tener por lo menos un valor.\")\n",
    "    det = 1.0\n",
    "    for i in range(n):\n",
    "        det *= matrix[i, i]\n",
    "    return det"
   ]
  },
  {
   "cell_type": "markdown",
   "id": "809fd1ae-8689-46ca-8864-586875217e68",
   "metadata": {},
   "source": [
    "> Sí, existe una forma directa y sencilla de calcular el determinante de una matriz cuadrada $n×n$ que es triangular, ya sea superior o inferior. El determinante de una matriz triangular es simplemente el producto de los elementos en su diagonal principal. **Justificación:** <br>\n",
    "> * Para una matriz diagonal superior:"
   ]
  },
  {
   "cell_type": "code",
   "execution_count": 7,
   "id": "2e7ed063-d177-4141-844d-a1a8aea29bb4",
   "metadata": {},
   "outputs": [
    {
     "name": "stdout",
     "output_type": "stream",
     "text": [
      "\n",
      "Para la matriz de (3, 3):\n",
      "[[ 5. -8. -9.]\n",
      " [ 0.  1. -9.]\n",
      " [ 0.  0.  9.]]\n",
      "El determinante recursivo es: 45.0.\n",
      "El determinante directo es: 45.0.\n"
     ]
    }
   ],
   "source": [
    "A = matriz_entera_cuadrada_random(min_value=-10, max_value=10, size_matrix=3, type_matrix=2)\n",
    "det1 = determinante_recursivo(matrix=A)\n",
    "det2 = determinante_matriz_triangular(matrix=A)\n",
    "print(f'\\nPara la matriz de {A.shape}:\\n{A}\\nEl determinante recursivo es: {det1}.\\nEl determinante directo es: {det2}.')"
   ]
  },
  {
   "cell_type": "markdown",
   "id": "73abd90f-2707-4f70-84b4-2e0107f03b78",
   "metadata": {},
   "source": [
    "> * Para una matriz diagonal superior:"
   ]
  },
  {
   "cell_type": "code",
   "execution_count": 8,
   "id": "10ba2c4f-35ab-4faa-85ea-841b1ce1767a",
   "metadata": {},
   "outputs": [
    {
     "name": "stdout",
     "output_type": "stream",
     "text": [
      "\n",
      "Para la matriz de (3, 3):\n",
      "[[ 6.  0.  0.]\n",
      " [ 9. -1.  0.]\n",
      " [ 6.  6. -5.]]\n",
      "El determinante recursivo es: 30.0.\n",
      "El determinante directo es: 30.0.\n"
     ]
    }
   ],
   "source": [
    "A = matriz_entera_cuadrada_random(min_value=-10, max_value=10, size_matrix=3, type_matrix=3)\n",
    "det1 = determinante_recursivo(matrix=A)\n",
    "det2 = determinante_matriz_triangular(matrix=A)\n",
    "print(f'\\nPara la matriz de {A.shape}:\\n{A}\\nEl determinante recursivo es: {det1}.\\nEl determinante directo es: {det2}.')"
   ]
  },
  {
   "cell_type": "markdown",
   "id": "01af4b49-24eb-43c5-bd42-949ba11efeb5",
   "metadata": {},
   "source": [
    "c) [0.5 puntos] Determínese de forma justificada cómo alteran el determinante de una matriz $n×n$ las dos operaciones elementales siguientes:"
   ]
  },
  {
   "cell_type": "markdown",
   "id": "762bd5e6-5494-49fe-8266-7c59912511f4",
   "metadata": {},
   "source": [
    "* Intercambiar una fila (o columna) por otra fila (o columna)."
   ]
  },
  {
   "cell_type": "markdown",
   "id": "4c506710-6b36-46cc-9bb7-009d76183c2d",
   "metadata": {},
   "source": [
    "> Intercambiar una fila (o columna) por otra en una matriz cuadrada $𝑛×𝑛$ no altera el valor absoluto del determinante de la matriz, pero puede cambiar su signo. **Justificación:**"
   ]
  },
  {
   "cell_type": "code",
   "execution_count": 9,
   "id": "f2e058b5-2b32-49de-86f1-7d231a50ff35",
   "metadata": {},
   "outputs": [
    {
     "name": "stdout",
     "output_type": "stream",
     "text": [
      "\n",
      "Para la matriz de (3, 3):\n",
      "[[-7.  5.  4.]\n",
      " [ 6. -4. -5.]\n",
      " [ 9. -2.  9.]]\n",
      "El determinante es: -77.0.\n",
      "\n",
      "Permutacion [0 1 2]\n",
      "\n",
      "Para la matriz cambiada en FILAS:\n",
      "[[-7.  5.  4.]\n",
      " [ 6. -4. -5.]\n",
      " [ 9. -2.  9.]]\n",
      "El determinante es: -77.0.\n",
      "\n",
      "\n",
      "Para la matriz cambiada en COLUMNAS:\n",
      "[[-7.  5.  4.]\n",
      " [ 6. -4. -5.]\n",
      " [ 9. -2.  9.]]\n",
      "El determinante es: -77.0.\n",
      "\n",
      "Permutacion [0 2 1]\n",
      "\n",
      "Para la matriz cambiada en FILAS:\n",
      "[[-7.  5.  4.]\n",
      " [ 9. -2.  9.]\n",
      " [ 6. -4. -5.]]\n",
      "El determinante es: 77.0.\n",
      "\n",
      "\n",
      "Para la matriz cambiada en COLUMNAS:\n",
      "[[-7.  4.  5.]\n",
      " [ 6. -5. -4.]\n",
      " [ 9.  9. -2.]]\n",
      "El determinante es: 77.0.\n",
      "\n",
      "Permutacion [1 0 2]\n",
      "\n",
      "Para la matriz cambiada en FILAS:\n",
      "[[ 6. -4. -5.]\n",
      " [-7.  5.  4.]\n",
      " [ 9. -2.  9.]]\n",
      "El determinante es: 77.0.\n",
      "\n",
      "\n",
      "Para la matriz cambiada en COLUMNAS:\n",
      "[[ 5. -7.  4.]\n",
      " [-4.  6. -5.]\n",
      " [-2.  9.  9.]]\n",
      "El determinante es: 77.0.\n",
      "\n",
      "Permutacion [1 2 0]\n",
      "\n",
      "Para la matriz cambiada en FILAS:\n",
      "[[ 6. -4. -5.]\n",
      " [ 9. -2.  9.]\n",
      " [-7.  5.  4.]]\n",
      "El determinante es: -77.0.\n",
      "\n",
      "\n",
      "Para la matriz cambiada en COLUMNAS:\n",
      "[[ 5.  4. -7.]\n",
      " [-4. -5.  6.]\n",
      " [-2.  9.  9.]]\n",
      "El determinante es: -77.0.\n",
      "\n",
      "Permutacion [2 0 1]\n",
      "\n",
      "Para la matriz cambiada en FILAS:\n",
      "[[ 9. -2.  9.]\n",
      " [-7.  5.  4.]\n",
      " [ 6. -4. -5.]]\n",
      "El determinante es: -77.0.\n",
      "\n",
      "\n",
      "Para la matriz cambiada en COLUMNAS:\n",
      "[[ 4. -7.  5.]\n",
      " [-5.  6. -4.]\n",
      " [ 9.  9. -2.]]\n",
      "El determinante es: -77.0.\n",
      "\n",
      "Permutacion [2 1 0]\n",
      "\n",
      "Para la matriz cambiada en FILAS:\n",
      "[[ 9. -2.  9.]\n",
      " [ 6. -4. -5.]\n",
      " [-7.  5.  4.]]\n",
      "El determinante es: 77.0.\n",
      "\n",
      "\n",
      "Para la matriz cambiada en COLUMNAS:\n",
      "[[ 4.  5. -7.]\n",
      " [-5. -4.  6.]\n",
      " [ 9. -2.  9.]]\n",
      "El determinante es: 77.0.\n",
      "\n"
     ]
    }
   ],
   "source": [
    "A = matriz_entera_cuadrada_random(min_value=-10, max_value=10, size_matrix=3, type_matrix=0)\n",
    "det = determinante_recursivo(matrix=A)\n",
    "print(f'\\nPara la matriz de {A.shape}:\\n{A}\\nEl determinante es: {det}.\\n')\n",
    "\n",
    "# Cambiando\n",
    "B = np.zeros(A.shape)\n",
    "C = np.zeros(A.shape)\n",
    "perm = np.array(list(itertools.permutations(list(range(A.shape[0])), A.shape[0])))\n",
    "for i in perm:\n",
    "    print(f'Permutacion {i}')\n",
    "    for j in range(A.shape[0]):\n",
    "        B[j, :] = A[i[j], :]\n",
    "        C[:, j] = A[:, i[j]]\n",
    "    det = determinante_recursivo(matrix=B)\n",
    "    print(f'\\nPara la matriz cambiada en FILAS:\\n{B}\\nEl determinante es: {det}.\\n')\n",
    "    det = determinante_recursivo(matrix=C)\n",
    "    print(f'\\nPara la matriz cambiada en COLUMNAS:\\n{C}\\nEl determinante es: {det}.\\n')"
   ]
  },
  {
   "cell_type": "markdown",
   "id": "a628da03-ae6d-4691-8681-6a4fb8d5afdf",
   "metadata": {},
   "source": [
    "* Sumar a una fila (o columna) otra fila (o columna) multiplicada por un escalar $α$"
   ]
  },
  {
   "cell_type": "markdown",
   "id": "019db79b-cd37-4680-8b9f-2616c357e17b",
   "metadata": {},
   "source": [
    "> Sumar a una fila (o columna) otra fila (o columna) multiplicada por un escalar $𝛼$ no altera el determinante de una matriz cuadrada $𝑛×𝑛$. **Justificación:**"
   ]
  },
  {
   "cell_type": "code",
   "execution_count": 10,
   "id": "1b7c95bc-2649-42cc-b811-206a5b17ef66",
   "metadata": {},
   "outputs": [
    {
     "name": "stdout",
     "output_type": "stream",
     "text": [
      "\n",
      "Para la matriz de (3, 3):\n",
      "[[ -4.  -3. -10.]\n",
      " [  4.   9.   5.]\n",
      " [  6.   7.  -2.]]\n",
      "El determinante es: 358.0.\n",
      "\n",
      "\n",
      "Para la matriz modificadora de (3, 3):\n",
      "[[1. 0. 0.]\n",
      " [0. 1. 0.]\n",
      " [0. 0. 1.]]\n",
      "El determinante es: 1.0.\n",
      "\n",
      "\n",
      "Para la matriz modificada de (3, 3):\n",
      "[[ 9. -2.  9.]\n",
      " [ 6. -4. -5.]\n",
      " [-7.  5.  4.]]\n",
      "El determinante es: 358.0.\n",
      "\n",
      "\n",
      "Para la matriz modificada de (3, 3):\n",
      "[[ 9. -2.  9.]\n",
      " [ 6. -4. -5.]\n",
      " [-7.  5.  4.]]\n",
      "El determinante es: 358.0.\n",
      "\n"
     ]
    }
   ],
   "source": [
    "A = matriz_entera_cuadrada_random(min_value=-10, max_value=10, size_matrix=3, type_matrix=0)\n",
    "det = determinante_recursivo(matrix=A)\n",
    "print(f'\\nPara la matriz de {A.shape}:\\n{A}\\nEl determinante es: {det}.\\n')\n",
    "\n",
    "M = np.identity(3)\n",
    "pos = (0, 0)\n",
    "while pos[0] == pos[1]:\n",
    "    pos = (np.random.randint(0, 3), np.random.randint(0, 3))\n",
    "M[pos] = np.random.randint(0, 10) # Editando la matriz, dando un valor random en cualquier lugar que no sea la diagonal\n",
    "det = determinante_recursivo(matrix=M)\n",
    "print(f'\\nPara la matriz modificadora de {M.shape}:\\n{M}\\nEl determinante es: {det}.\\n')\n",
    "\n",
    "AM = np.dot(A, M)\n",
    "det = determinante_recursivo(matrix=AM)\n",
    "print(f'\\nPara la matriz modificada de {AM.shape}:\\n{B}\\nEl determinante es: {det}.\\n')\n",
    "\n",
    "AM = A\n",
    "AM[:, pos[1]] = A[:, pos[1]] + M[pos] * A[:, pos[0]]\n",
    "det = determinante_recursivo(matrix=AM)\n",
    "print(f'\\nPara la matriz modificada de {AM.shape}:\\n{B}\\nEl determinante es: {det}.\\n')"
   ]
  },
  {
   "cell_type": "markdown",
   "id": "3ea3c8c0-f01b-4097-b0ba-2f44029f53db",
   "metadata": {},
   "source": [
    "d) [1 punto] Investiga sobre el método de eliminación de Gauss con pivoteo parcial e impleméntalo para escalonar una matriz (es decir, convertirla en una matriz triangular inferior) a partir de las operaciones elementales descritas en el apartado anterior."
   ]
  },
  {
   "cell_type": "markdown",
   "id": "3384a749-a44b-4a9b-9d43-fc363de35fed",
   "metadata": {},
   "source": [
    "> El método de eliminación de Gauss con pivoteo parcial es una técnica utilizada para resolver sistemas de ecuaciones lineales y consiste en convertir una matriz en una forma escalonada o triangular superior (o inferior) mediante una serie de operaciones elementales. El pivoteo parcial se utiliza para seleccionar el pivote (elemento principal) de cada paso de eliminación como el máximo en valor absoluto en la columna actual, lo que ayuda a reducir errores numéricos y a mejorar la estabilidad del algoritmo. <br> <br>\n",
    "> Supongamos que tenemos la siguiente matriz original ($A$): <br>\n",
    "> <center> $A = \\begin{pmatrix}\n",
    "    2 & -1 & 1 & 2 \\\\\n",
    "    4 & 1 & -1 & 4 \\\\\n",
    "    -2 & 5 & 1 & 3 \\\\\n",
    "    6 & -3 & 4 & 10\n",
    "    \\end{pmatrix}$ </center>\n",
    "> Paso 1: Selección de Pivote: En la primera columna, el elemento  $|4|$ es el máximo en valor absoluto, por lo que intercambiamos la primera fila con la segunda fila para llevarlo a la posición del pivote:\n",
    "> <center> $A = \\begin{pmatrix}\n",
    "    4 & 1 & -1 & 4 \\\\\n",
    "    2 & -1 & 1 & 2 \\\\\n",
    "    -2 & 5 & 1 & 3 \\\\\n",
    "    6 & -3 & 4 & 10\n",
    "    \\end{pmatrix}$ </center>\n",
    "> Paso 2: Eliminación hacia adelante: Utilizamos el primer elemento de la primera fila como pivote para eliminar los elementos debajo de él:\n",
    "> <center> $A = \\begin{pmatrix}\n",
    "    4 & 1 & -1 & 4 \\\\\n",
    "    0 & -1.5 & 1.5 & 0 \\\\\n",
    "    0 & 6.5 & 0.5 & 5 \\\\\n",
    "    0 & -7 & 8 & -6\n",
    "    \\end{pmatrix}$ </center>\n",
    "> Paso 3: Nuevo pivote y eliminación: En la segunda columna, el elemento $|-7|$ es el máximo en valor absoluto, por lo que intercambiamos la tercera fila con la cuarta fila:\n",
    "> <center> $A = \\begin{pmatrix}\n",
    "    4 & 1 & -1 & 4 \\\\\n",
    "    0 & -1.5 & 1.5 & 0 \\\\\n",
    "    0 & -7 & 8 & -6 \\\\\n",
    "    0 & 6.5 & 0.5 & 5\n",
    "    \\end{pmatrix}$ </center>\n",
    "> Paso 4: Eliminación hacia adelante nuevamente: Utilizamos el segundo elemento de la segunda fila como pivote para eliminar los elementos debajo de él:\n",
    "> <center> $A = \\begin{pmatrix}\n",
    "    4 & 1 & -1 & 4 \\\\\n",
    "    0 & -7 & 8 & -6 \\\\\n",
    "    0 & 0 & 9.571 & 4.571 \\\\\n",
    "    0 & 0 & 15 & 9\n",
    "   \\end{pmatrix}$ </center>\n",
    "> Finalmente, obtenemos la matriz escalonada (triangular inferior) $A$ luego de aplicar el método de eliminación de Gauss con pivoteo parcial."
   ]
  },
  {
   "cell_type": "markdown",
   "id": "783b0b73-e586-41fe-8e16-9121980a7567",
   "metadata": {},
   "source": [
    "e) [0.5 puntos] ¿Cómo se podría calcular el determinante de una matriz haciendo beneficio de la estrategia anterior y del efecto de aplicar las operaciones elementales pertinentes? Implementa una nueva función, determinante gauss, que calcule el determinante de una matriz utilizando eliminación gaussiana."
   ]
  },
  {
   "cell_type": "markdown",
   "id": "ffc65d6f-5744-452d-913f-fd0e4ba45cbb",
   "metadata": {},
   "source": [
    "> Aplicando el método de eliminación de Gauss, se pasa de una matriz cuadrada completa a una matriz cuadrada triangular superior o inferior, anteriormente dicho que la determinante de un matriz triangular es igual al multiplo de los valores en la diagonal."
   ]
  },
  {
   "cell_type": "code",
   "execution_count": 11,
   "id": "7c47559f-6d09-410b-9658-cd5e7274ef28",
   "metadata": {},
   "outputs": [],
   "source": [
    "def metodo_eliminacion_Gauss(matrix:np.array, type:str='up') -> np.array:\n",
    "    n, m = matrix.shape\n",
    "    if n != m:\n",
    "        raise ValueError(\"La matriz debe ser cuadrada.\")\n",
    "    elif n < 1:\n",
    "        raise ValueError(\"La matriz debe tener por lo menos un valor.\")\n",
    "    matrix_tr = np.copy(matrix)\n",
    "    if type == 'up':\n",
    "        for i in range(n):\n",
    "            if matrix_tr[i,i] == 0: raise ValueError(f'Valor {i}x{i} es 0.')\n",
    "            else:\n",
    "                for j in range(i+1, n):\n",
    "                    factor = matrix_tr[j, i]/matrix_tr[i, i]\n",
    "                    matrix_tr[j, :] = matrix_tr[j, :] - factor*matrix_tr[i, :]\n",
    "    elif type == 'down':\n",
    "        for i in range(n):\n",
    "            if matrix_tr[i,i] == 0: raise ValueError(f'Valor {i}x{i} es 0.')\n",
    "            else:\n",
    "                for j in range(i+1, n):\n",
    "                    factor = matrix_tr[i, j]/matrix_tr[i, i]\n",
    "                    matrix_tr[:, j] = matrix_tr[:, j] - factor*matrix_tr[:, i]\n",
    "    return matrix_tr"
   ]
  },
  {
   "cell_type": "code",
   "execution_count": 12,
   "id": "99fa37a4-741a-4907-b310-e79d4dadd42f",
   "metadata": {},
   "outputs": [
    {
     "name": "stdout",
     "output_type": "stream",
     "text": [
      "\n",
      "Para la matriz de (3, 3):\n",
      "[[ 5. -3. -6.]\n",
      " [-2.  0. -7.]\n",
      " [ 7.  7. -9.]]\n",
      "El determinante es: 530.0.\n",
      "\n",
      "\n",
      "Para la matriz triangular de (3, 3):\n",
      "[[ 5.00000000e+00 -3.00000000e+00 -6.00000000e+00]\n",
      " [ 0.00000000e+00 -1.20000000e+00 -9.40000000e+00]\n",
      " [ 0.00000000e+00 -1.77635684e-15 -8.83333333e+01]]\n",
      "El determinante es: 530.0.\n",
      "\n"
     ]
    }
   ],
   "source": [
    "A = matriz_entera_cuadrada_random(min_value=-10, max_value=10, size_matrix=3, type_matrix=0)\n",
    "det = determinante_recursivo(matrix=A)\n",
    "print(f'\\nPara la matriz de {A.shape}:\\n{A}\\nEl determinante es: {det}.\\n')\n",
    "\n",
    "B = metodo_eliminacion_Gauss(matrix=A, type='up')\n",
    "det = determinante_matriz_triangular(matrix=B)\n",
    "print(f'\\nPara la matriz triangular de {B.shape}:\\n{B}\\nEl determinante es: {det}.\\n')"
   ]
  },
  {
   "cell_type": "markdown",
   "id": "bbe1e0d5-cdae-4fd5-9e27-2ce848b4457b",
   "metadata": {},
   "source": [
    "f) [0.5 puntos] Obtén la complejidad computacional asociada al cálculo del determinante con la definición recursiva y con el método de eliminación de Gauss con pivoteo parcial."
   ]
  },
  {
   "cell_type": "markdown",
   "id": "9326aa3e-6f2b-4b2d-afd5-fef41f4131c5",
   "metadata": {},
   "source": [
    "> * Complejidad de la función `determinante_recursivo` es: <br>\n",
    "> \n",
    "> La recursividad está dada por: $$T(n)=n*T(n-1)$$ Dando como resultado parcial desde $i=n$ hasta $i=2$: $$T(n)=n!*T(2)$$ Sabiendo que al llegar a $i=2$ se resuelve con operaciones básicas que es de complejidad $O(1)$. <br>\n",
    "> Entonces, da como resultado total una complejidada de $O(n!)$ <br>\n",
    ">"
   ]
  },
  {
   "cell_type": "markdown",
   "id": "121d713c-4688-41fe-b55d-4f01e8e08ec8",
   "metadata": {},
   "source": [
    "> * Complejidad de la función `metodo_eliminacion_Gauss` y `determinante_matriz_triangular` es: <br>\n",
    "> \n",
    "> En el Método de eliminación de Gauss, se pueden observar dos blucles, uno de $n$ ejecuciones como máximo y el otro como $n-1$ ejecuciones como máximo. Dando que: $$T(n)=n(n-1)$$\n",
    "> En el Determinante de una matriz ztriangular, solo se usan operaciones básicas, siendo de complejidad $O(1)$ <br>\n",
    "> Entonces, da como resultado total una complejidada de $O(n^2)$ <br>"
   ]
  },
  {
   "cell_type": "markdown",
   "id": "c0a3e8fe-8959-4476-8f06-811490c11793",
   "metadata": {},
   "source": [
    "g) [1 punto] Utilizando `numpy.random.rand`, genera matrices cuadradas aleatorias de la forma $A_n ∈ \\mathbb{R}^{n×n}$, para $2 ≤ n ≤ 10$, y confecciona una tabla comparativa del tiempo de ejecución asociado a cada una de las variantes siguientes, interpretando los resultados:"
   ]
  },
  {
   "cell_type": "markdown",
   "id": "5bfac216-d7b1-472f-a0a3-cda1bf9a408f",
   "metadata": {},
   "source": [
    "> Ya que el método `numpy.random.rand` solo da valores incluidos en $[0, 1)$, he preferido utilizar el `numpy.random.randint` que permite modificar el mínimo y máximo, dando valores negativos y enteros facilitando la comparación mecánica."
   ]
  },
  {
   "cell_type": "code",
   "execution_count": 13,
   "id": "2d672d81-12f6-468f-a82a-a5f58506cef8",
   "metadata": {},
   "outputs": [],
   "source": [
    "n = 6 # Tamaño de la matriz\n",
    "k = 4 # Número de matrices\n",
    "\n",
    "value = True # Verificador\n",
    "A = [] # Conjunto de matrices\n",
    "\n",
    "while value:\n",
    "    for i in range(k):\n",
    "        A.append(matriz_entera_cuadrada_random(size_matrix=n)) # Revisar que la diagonal no tenga 0\n",
    "        for j in range(n):\n",
    "            if A[i][j, j] == 0:\n",
    "                value = True\n",
    "                pass\n",
    "            else: value = False\n",
    "tiempos = []"
   ]
  },
  {
   "cell_type": "markdown",
   "id": "18dc30da-420a-4bd2-bd12-0ead27a47653",
   "metadata": {},
   "source": [
    "* Utilizando determinante recursivo."
   ]
  },
  {
   "cell_type": "code",
   "execution_count": 14,
   "id": "e4155d6c-3edb-42e4-a023-8318c391e886",
   "metadata": {},
   "outputs": [
    {
     "name": "stdout",
     "output_type": "stream",
     "text": [
      "\n",
      "Para la matriz de (6, 6):\n",
      "[[ -2.   7.   7. -10. -10.  -7.]\n",
      " [  9.   9.  -5.   4.   5.  -1.]\n",
      " [  8.  -6.  -8.  -5.  -6.  -1.]\n",
      " [  7.   7.  -7. -10.  -8.   9.]\n",
      " [  9.  -8.  -5.   3.   4.  -8.]\n",
      " [  6.  -3.  -8.   8.  -1.  -9.]]\n",
      "El determinante es: 2091.0.\n",
      "\n",
      "\n",
      "Tiempo transcurrido: 12009800 ns.\n",
      "\n",
      "Para la matriz de (6, 6):\n",
      "[[  8.   2.  -3.   9.  -9.  -4.]\n",
      " [ -7. -10.  -7.  -9.   7.  -6.]\n",
      " [  9.   5.   0.   6.  -6.  -2.]\n",
      " [ -8.   3.  -7.   2.  -3.  -8.]\n",
      " [  7.   7.  -5.   5.  -2.   2.]\n",
      " [  8.  -2.  -7.   0.  -3.   5.]]\n",
      "El determinante es: 330395.0.\n",
      "\n",
      "\n",
      "Tiempo transcurrido: 4179300 ns.\n",
      "\n",
      "Para la matriz de (6, 6):\n",
      "[[  2.  -7.   3.   8.  -3.   6.]\n",
      " [  5.  -4.   7.   6.  -7.   1.]\n",
      " [  9.  -2.   2.  -6.   1.   6.]\n",
      " [ -2.   0.  -9. -10.   5. -10.]\n",
      " [ -9.  -6.   4.  -5.   8.   9.]\n",
      " [  9.  -3.   6.  -4.  -4.   0.]]\n",
      "El determinante es: 5763.0.\n",
      "\n",
      "\n",
      "Tiempo transcurrido: 7690300 ns.\n",
      "\n",
      "Para la matriz de (6, 6):\n",
      "[[  7.   5.  -5.   2.  -1.  -2.]\n",
      " [  7.   3.  -4.  -6.   8.   9.]\n",
      " [ -9.   8.   2.   6.  -1.   3.]\n",
      " [  8.   1.   3.   3.  -8.  -6.]\n",
      " [-10.   6.  -3.   6.   7.  -8.]\n",
      " [ -2.   7. -10.   6.   6.  -1.]]\n",
      "El determinante es: -322877.0.\n",
      "\n",
      "\n",
      "Tiempo transcurrido: 5998100 ns.\n"
     ]
    }
   ],
   "source": [
    "tiempos_ = []\n",
    "for a in A:\n",
    "    start_time = time.time_ns()\n",
    "    \n",
    "    det = determinante_recursivo(matrix=a)\n",
    "    print(f'\\nPara la matriz de {a.shape}:\\n{a}\\nEl determinante es: {det}.\\n')\n",
    "    \n",
    "    pause_time = time.time_ns()\n",
    "    print(f'\\nTiempo transcurrido: {pause_time - start_time} ns.')\n",
    "    tiempos_.append(pause_time - start_time)\n",
    "tiempos.append(tiempos_)"
   ]
  },
  {
   "cell_type": "markdown",
   "id": "87732401-4422-4d13-9955-86a6f9c924d6",
   "metadata": {},
   "source": [
    "* Empleando determinante gauss."
   ]
  },
  {
   "cell_type": "code",
   "execution_count": 15,
   "id": "522b185e-3c54-4065-b8bd-5b5e498c316b",
   "metadata": {},
   "outputs": [
    {
     "name": "stdout",
     "output_type": "stream",
     "text": [
      "\n",
      "Para la matriz de (6, 6):\n",
      "[[ -2.   7.   7. -10. -10.  -7.]\n",
      " [  9.   9.  -5.   4.   5.  -1.]\n",
      " [  8.  -6.  -8.  -5.  -6.  -1.]\n",
      " [  7.   7.  -7. -10.  -8.   9.]\n",
      " [  9.  -8.  -5.   3.   4.  -8.]\n",
      " [  6.  -3.  -8.   8.  -1.  -9.]]\n",
      "El determinante es: 2090.999999999244.\n",
      "\n",
      "\n",
      "Tiempo transcurrido: 903200 ns.\n",
      "\n",
      "Para la matriz de (6, 6):\n",
      "[[  8.   2.  -3.   9.  -9.  -4.]\n",
      " [ -7. -10.  -7.  -9.   7.  -6.]\n",
      " [  9.   5.   0.   6.  -6.  -2.]\n",
      " [ -8.   3.  -7.   2.  -3.  -8.]\n",
      " [  7.   7.  -5.   5.  -2.   2.]\n",
      " [  8.  -2.  -7.   0.  -3.   5.]]\n",
      "El determinante es: 330395.0000000011.\n",
      "\n",
      "\n",
      "Tiempo transcurrido: 1091300 ns.\n",
      "\n",
      "Para la matriz de (6, 6):\n",
      "[[  2.  -7.   3.   8.  -3.   6.]\n",
      " [  5.  -4.   7.   6.  -7.   1.]\n",
      " [  9.  -2.   2.  -6.   1.   6.]\n",
      " [ -2.   0.  -9. -10.   5. -10.]\n",
      " [ -9.  -6.   4.  -5.   8.   9.]\n",
      " [  9.  -3.   6.  -4.  -4.   0.]]\n",
      "El determinante es: 5762.999999999911.\n",
      "\n",
      "\n",
      "Tiempo transcurrido: 0 ns.\n",
      "\n",
      "Para la matriz de (6, 6):\n",
      "[[  7.   5.  -5.   2.  -1.  -2.]\n",
      " [  7.   3.  -4.  -6.   8.   9.]\n",
      " [ -9.   8.   2.   6.  -1.   3.]\n",
      " [  8.   1.   3.   3.  -8.  -6.]\n",
      " [-10.   6.  -3.   6.   7.  -8.]\n",
      " [ -2.   7. -10.   6.   6.  -1.]]\n",
      "El determinante es: -322877.0000000002.\n",
      "\n",
      "\n",
      "Tiempo transcurrido: 908500 ns.\n"
     ]
    }
   ],
   "source": [
    "tiempos_ = []\n",
    "for a in A:\n",
    "    start_time = time.time_ns()\n",
    "    \n",
    "    det = determinante_matriz_triangular(metodo_eliminacion_Gauss(matrix=a))\n",
    "    print(f'\\nPara la matriz de {a.shape}:\\n{a}\\nEl determinante es: {det}.\\n')\n",
    "    \n",
    "    pause_time = time.time_ns()\n",
    "    print(f'\\nTiempo transcurrido: {pause_time - start_time} ns.')\n",
    "    tiempos_.append(pause_time - start_time)\n",
    "tiempos.append(tiempos_)"
   ]
  },
  {
   "cell_type": "markdown",
   "id": "3d4711d3-34f6-42f0-8ae1-4bb6f1225bf4",
   "metadata": {},
   "source": [
    "* Haciendo uso de la función preprogramada `numpy.linalg.det`."
   ]
  },
  {
   "cell_type": "code",
   "execution_count": 16,
   "id": "3ae71d24-f970-4233-99dc-33b2ba16a26c",
   "metadata": {},
   "outputs": [
    {
     "name": "stdout",
     "output_type": "stream",
     "text": [
      "\n",
      "Para la matriz de (6, 6):\n",
      "[[ -2.   7.   7. -10. -10.  -7.]\n",
      " [  9.   9.  -5.   4.   5.  -1.]\n",
      " [  8.  -6.  -8.  -5.  -6.  -1.]\n",
      " [  7.   7.  -7. -10.  -8.   9.]\n",
      " [  9.  -8.  -5.   3.   4.  -8.]\n",
      " [  6.  -3.  -8.   8.  -1.  -9.]]\n",
      "El determinante es: 2091.00000000012.\n",
      "\n",
      "\n",
      "Tiempo transcurrido: 1002800 ns.\n",
      "\n",
      "Para la matriz de (6, 6):\n",
      "[[  8.   2.  -3.   9.  -9.  -4.]\n",
      " [ -7. -10.  -7.  -9.   7.  -6.]\n",
      " [  9.   5.   0.   6.  -6.  -2.]\n",
      " [ -8.   3.  -7.   2.  -3.  -8.]\n",
      " [  7.   7.  -5.   5.  -2.   2.]\n",
      " [  8.  -2.  -7.   0.  -3.   5.]]\n",
      "El determinante es: 330395.00000000035.\n",
      "\n",
      "\n",
      "Tiempo transcurrido: 997300 ns.\n",
      "\n",
      "Para la matriz de (6, 6):\n",
      "[[  2.  -7.   3.   8.  -3.   6.]\n",
      " [  5.  -4.   7.   6.  -7.   1.]\n",
      " [  9.  -2.   2.  -6.   1.   6.]\n",
      " [ -2.   0.  -9. -10.   5. -10.]\n",
      " [ -9.  -6.   4.  -5.   8.   9.]\n",
      " [  9.  -3.   6.  -4.  -4.   0.]]\n",
      "El determinante es: 5763.000000000136.\n",
      "\n",
      "\n",
      "Tiempo transcurrido: 0 ns.\n",
      "\n",
      "Para la matriz de (6, 6):\n",
      "[[  7.   5.  -5.   2.  -1.  -2.]\n",
      " [  7.   3.  -4.  -6.   8.   9.]\n",
      " [ -9.   8.   2.   6.  -1.   3.]\n",
      " [  8.   1.   3.   3.  -8.  -6.]\n",
      " [-10.   6.  -3.   6.   7.  -8.]\n",
      " [ -2.   7. -10.   6.   6.  -1.]]\n",
      "El determinante es: -322877.0000000003.\n",
      "\n",
      "\n",
      "Tiempo transcurrido: 0 ns.\n"
     ]
    }
   ],
   "source": [
    "tiempos_ = []\n",
    "for a in A:\n",
    "    start_time = time.time_ns()\n",
    "    \n",
    "    det = np.linalg.det(a)\n",
    "    print(f'\\nPara la matriz de {a.shape}:\\n{a}\\nEl determinante es: {det}.\\n')\n",
    "    \n",
    "    pause_time = time.time_ns()\n",
    "    print(f'\\nTiempo transcurrido: {pause_time - start_time} ns.')\n",
    "    tiempos_.append(pause_time - start_time)\n",
    "tiempos.append(tiempos_)"
   ]
  },
  {
   "cell_type": "markdown",
   "id": "35f57eb7-6e8c-49e8-8f0f-5d0919dce6d8",
   "metadata": {},
   "source": [
    "> La tabla de tiempo de ejecución es:"
   ]
  },
  {
   "cell_type": "code",
   "execution_count": 17,
   "id": "017f303f-7988-444c-b85a-f782d44c3e29",
   "metadata": {},
   "outputs": [
    {
     "name": "stdout",
     "output_type": "stream",
     "text": [
      "Tiempo de ejecución.\n"
     ]
    },
    {
     "data": {
      "text/html": [
       "<div>\n",
       "<style scoped>\n",
       "    .dataframe tbody tr th:only-of-type {\n",
       "        vertical-align: middle;\n",
       "    }\n",
       "\n",
       "    .dataframe tbody tr th {\n",
       "        vertical-align: top;\n",
       "    }\n",
       "\n",
       "    .dataframe thead th {\n",
       "        text-align: right;\n",
       "    }\n",
       "</style>\n",
       "<table border=\"1\" class=\"dataframe\">\n",
       "  <thead>\n",
       "    <tr style=\"text-align: right;\">\n",
       "      <th></th>\n",
       "      <th>Recursivo</th>\n",
       "      <th>Gauss</th>\n",
       "      <th>Numpy</th>\n",
       "    </tr>\n",
       "  </thead>\n",
       "  <tbody>\n",
       "    <tr>\n",
       "      <th>0</th>\n",
       "      <td>12009800</td>\n",
       "      <td>903200</td>\n",
       "      <td>1002800</td>\n",
       "    </tr>\n",
       "    <tr>\n",
       "      <th>1</th>\n",
       "      <td>4179300</td>\n",
       "      <td>1091300</td>\n",
       "      <td>997300</td>\n",
       "    </tr>\n",
       "    <tr>\n",
       "      <th>2</th>\n",
       "      <td>7690300</td>\n",
       "      <td>0</td>\n",
       "      <td>0</td>\n",
       "    </tr>\n",
       "    <tr>\n",
       "      <th>3</th>\n",
       "      <td>5998100</td>\n",
       "      <td>908500</td>\n",
       "      <td>0</td>\n",
       "    </tr>\n",
       "  </tbody>\n",
       "</table>\n",
       "</div>"
      ],
      "text/plain": [
       "   Recursivo    Gauss    Numpy\n",
       "0   12009800   903200  1002800\n",
       "1    4179300  1091300   997300\n",
       "2    7690300        0        0\n",
       "3    5998100   908500        0"
      ]
     },
     "metadata": {},
     "output_type": "display_data"
    }
   ],
   "source": [
    "tiempos_df = pd.DataFrame({\n",
    "    'Recursivo': tiempos[0],\n",
    "    'Gauss': tiempos[1],\n",
    "    'Numpy': tiempos[2]\n",
    "})\n",
    "print(\"Tiempo de ejecución.\")\n",
    "display(tiempos_df)"
   ]
  },
  {
   "cell_type": "markdown",
   "id": "06c6d552-d290-45f8-b2d8-069932ea0fd8",
   "metadata": {},
   "source": [
    "2. En este ejercicio trabajaremos con el método de descenso de gradiente, el cual constituye otra herramienta crucial, en esta ocasión de la rama del cálculo, para el proceso de retropropagación asociado al entrenamiento de una red neuronal."
   ]
  },
  {
   "cell_type": "markdown",
   "id": "7a33c8d3-7296-4cf2-971c-001158fe5ace",
   "metadata": {},
   "source": [
    "a) [1 punto] Prográmese en Python el método de descenso de gradiente para funciones de $n$ variables. La función deberá tener como parámetros de entradas:\n",
    "* El gradiente de la función que se desea minimizar $∇f$ (puede venir dada como otra función previamente implementada, `grad_f`, con entrada un vector, representando el punto donde se quiere calcular el gradiente, y salida otro vector, representando el gradiente de $f$ en dicho punto).\n",
    "* Un valor inicial $x_0 ∈ \\mathbb{R}^n$ (almacenado en un vector de $n$ componentes).\n",
    "* El ratio de aprendizaje $γ$ (que se asume constante para cada iteración).\n",
    "* Un parámetro de tolerancia tol (con el que finalizar el proceso cuando $∥∇f(x)∥_2 < tol$ ).\n",
    "* Un número máximo de iteraciones `maxit` (con el fin de evitar ejecuciones indefinidas en caso de divergencia o convergencia muy lenta).\n",
    "\n",
    "La salida de la función deberá ser la aproximación del $x$ que cumple $f'(x) ≈ 0$, correspondiente a la última iteración realizada en el método."
   ]
  },
  {
   "cell_type": "code",
   "execution_count": 18,
   "id": "b9b383e9-a15e-47b4-9592-0c5e7b1e4137",
   "metadata": {},
   "outputs": [],
   "source": [
    "def gradient_descent(grad_f:callable, x0:np.ndarray, gamma:float, tol:float, maxit:int) -> np.ndarray:\n",
    "    dic = {\n",
    "        'Iteración': [],\n",
    "        'Xi': [],\n",
    "        'Tolerancia': []\n",
    "    }\n",
    "    x = np.array(x0, dtype=float)\n",
    "    for i in range(int(maxit)):\n",
    "        grad = grad_f(*x)\n",
    "        dic['Iteración'].append(i+1)\n",
    "        dic['Xi'].append(x)\n",
    "        dic['Tolerancia'].append(np.linalg.norm(grad))\n",
    "        if np.linalg.norm(grad) < tol:\n",
    "            break\n",
    "        x = x - gamma*grad.flatten()\n",
    "    return x, i+1, dic"
   ]
  },
  {
   "cell_type": "markdown",
   "id": "1554a18e-1cad-4c82-99b7-32fbdfc3edf7",
   "metadata": {},
   "source": [
    "b) Sea la función $f : \\mathbb{R} → \\mathbb{R}$ dada por: $$f(x) = 3x^4 + 4x^3 − 12x^2 + 7$$"
   ]
  },
  {
   "cell_type": "code",
   "execution_count": 19,
   "id": "f1f4cd57-510d-4a4d-8fc8-f1db6a315e8e",
   "metadata": {},
   "outputs": [],
   "source": [
    "x = sp.symbols('x') # Variables independientes\n",
    "\n",
    "f_sym = 3*x**4 + 4*x**3 - 12*x**2 + 7 # Funcion\n",
    "grad_f_sym = sp.diff(f_sym, x) # Gradiente\n",
    "\n",
    "f = sp.lambdify(x, f_sym, 'numpy') # Funcion lambda de f\n",
    "grad_f = sp.lambdify(x, grad_f_sym, 'numpy') # Funcion lambda del gradiente de f"
   ]
  },
  {
   "cell_type": "markdown",
   "id": "5b47b07c-95e3-4e76-91cd-e68b5f27721b",
   "metadata": {},
   "source": [
    "* [0.5 puntos] Aplica el método sobre $f(x)$ con $x_0 = 3$ $γ = 0.001$, $tol=1e^{-12}$, $maxit=1e^5$."
   ]
  },
  {
   "cell_type": "code",
   "execution_count": 20,
   "id": "7134d5b9-c94b-4e54-837b-c961897250e9",
   "metadata": {},
   "outputs": [
    {
     "name": "stdout",
     "output_type": "stream",
     "text": [
      "\n",
      "Para f(x):\n",
      "Punto inicial: [3].\n",
      "Un gamma: 0.001.\n",
      "Una tolerancia máxima: 1e-12.\n",
      "\n",
      "Se obtuvo:\n",
      "En una iteración de 832/100000.0.\n",
      "Un resultado de [1.] aproximado.\n",
      "\n"
     ]
    },
    {
     "data": {
      "text/html": [
       "<div>\n",
       "<style scoped>\n",
       "    .dataframe tbody tr th:only-of-type {\n",
       "        vertical-align: middle;\n",
       "    }\n",
       "\n",
       "    .dataframe tbody tr th {\n",
       "        vertical-align: top;\n",
       "    }\n",
       "\n",
       "    .dataframe thead th {\n",
       "        text-align: right;\n",
       "    }\n",
       "</style>\n",
       "<table border=\"1\" class=\"dataframe\">\n",
       "  <thead>\n",
       "    <tr style=\"text-align: right;\">\n",
       "      <th></th>\n",
       "      <th>Xi</th>\n",
       "      <th>Tolerancia</th>\n",
       "    </tr>\n",
       "    <tr>\n",
       "      <th>Iteración</th>\n",
       "      <th></th>\n",
       "      <th></th>\n",
       "    </tr>\n",
       "  </thead>\n",
       "  <tbody>\n",
       "    <tr>\n",
       "      <th>1</th>\n",
       "      <td>[3.0]</td>\n",
       "      <td>3.600000e+02</td>\n",
       "    </tr>\n",
       "    <tr>\n",
       "      <th>2</th>\n",
       "      <td>[2.64]</td>\n",
       "      <td>2.410721e+02</td>\n",
       "    </tr>\n",
       "    <tr>\n",
       "      <th>3</th>\n",
       "      <td>[2.3989278720000002]</td>\n",
       "      <td>1.771498e+02</td>\n",
       "    </tr>\n",
       "    <tr>\n",
       "      <th>4</th>\n",
       "      <td>[2.2217780988709572]</td>\n",
       "      <td>1.375212e+02</td>\n",
       "    </tr>\n",
       "    <tr>\n",
       "      <th>5</th>\n",
       "      <td>[2.084256894881889]</td>\n",
       "      <td>1.107587e+02</td>\n",
       "    </tr>\n",
       "    <tr>\n",
       "      <th>...</th>\n",
       "      <td>...</td>\n",
       "      <td>...</td>\n",
       "    </tr>\n",
       "    <tr>\n",
       "      <th>828</th>\n",
       "      <td>[1.000000000000032]</td>\n",
       "      <td>1.151079e-12</td>\n",
       "    </tr>\n",
       "    <tr>\n",
       "      <th>829</th>\n",
       "      <td>[1.0000000000000309]</td>\n",
       "      <td>1.115552e-12</td>\n",
       "    </tr>\n",
       "    <tr>\n",
       "      <th>830</th>\n",
       "      <td>[1.0000000000000298]</td>\n",
       "      <td>1.069367e-12</td>\n",
       "    </tr>\n",
       "    <tr>\n",
       "      <th>831</th>\n",
       "      <td>[1.0000000000000286]</td>\n",
       "      <td>1.030287e-12</td>\n",
       "    </tr>\n",
       "    <tr>\n",
       "      <th>832</th>\n",
       "      <td>[1.0000000000000275]</td>\n",
       "      <td>9.912071e-13</td>\n",
       "    </tr>\n",
       "  </tbody>\n",
       "</table>\n",
       "<p>832 rows × 2 columns</p>\n",
       "</div>"
      ],
      "text/plain": [
       "                             Xi    Tolerancia\n",
       "Iteración                                    \n",
       "1                         [3.0]  3.600000e+02\n",
       "2                        [2.64]  2.410721e+02\n",
       "3          [2.3989278720000002]  1.771498e+02\n",
       "4          [2.2217780988709572]  1.375212e+02\n",
       "5           [2.084256894881889]  1.107587e+02\n",
       "...                         ...           ...\n",
       "828         [1.000000000000032]  1.151079e-12\n",
       "829        [1.0000000000000309]  1.115552e-12\n",
       "830        [1.0000000000000298]  1.069367e-12\n",
       "831        [1.0000000000000286]  1.030287e-12\n",
       "832        [1.0000000000000275]  9.912071e-13\n",
       "\n",
       "[832 rows x 2 columns]"
      ]
     },
     "metadata": {},
     "output_type": "display_data"
    }
   ],
   "source": [
    "x0 = [3]\n",
    "gamma = 0.001\n",
    "tol = 1e-12\n",
    "maxit = 1e5\n",
    "\n",
    "result, i, dic = gradient_descent(grad_f=grad_f, x0=x0, gamma=gamma, tol=tol, maxit=maxit)\n",
    "print(f'\\nPara f(x):\\nPunto inicial: {x0}.\\nUn gamma: {gamma}.\\nUna tolerancia máxima: {tol}.\\n\\nSe obtuvo:\\nEn una iteración de {i}/{maxit}.\\nUn resultado de {result} aproximado.\\n')\n",
    "df = pd.DataFrame(dic)\n",
    "df.set_index('Iteración', inplace=True)\n",
    "display(df)"
   ]
  },
  {
   "cell_type": "markdown",
   "id": "59d5b248-6eca-44d0-a96b-302227b5004e",
   "metadata": {},
   "source": [
    "* [0.5 puntos] Aplica de nuevo el método sobre $f(x)$ con $x_0 = 3$, $γ = 0.01$, $tol=1e^{-12}$, $maxit=1e^5$."
   ]
  },
  {
   "cell_type": "code",
   "execution_count": 21,
   "id": "91273fc0-52d8-4a52-b2bf-a06cbf1afdac",
   "metadata": {},
   "outputs": [
    {
     "name": "stdout",
     "output_type": "stream",
     "text": [
      "\n",
      "Para f(x):\n",
      "Punto inicial: [3].\n",
      "Un gamma: 0.01.\n",
      "Una tolerancia máxima: 1e-12.\n",
      "\n",
      "Se obtuvo:\n",
      "En una iteración de 32/100000.0.\n",
      "Un resultado de [-2.] aproximado.\n",
      "\n"
     ]
    },
    {
     "data": {
      "text/html": [
       "<div>\n",
       "<style scoped>\n",
       "    .dataframe tbody tr th:only-of-type {\n",
       "        vertical-align: middle;\n",
       "    }\n",
       "\n",
       "    .dataframe tbody tr th {\n",
       "        vertical-align: top;\n",
       "    }\n",
       "\n",
       "    .dataframe thead th {\n",
       "        text-align: right;\n",
       "    }\n",
       "</style>\n",
       "<table border=\"1\" class=\"dataframe\">\n",
       "  <thead>\n",
       "    <tr style=\"text-align: right;\">\n",
       "      <th></th>\n",
       "      <th>Xi</th>\n",
       "      <th>Tolerancia</th>\n",
       "    </tr>\n",
       "    <tr>\n",
       "      <th>Iteración</th>\n",
       "      <th></th>\n",
       "      <th></th>\n",
       "    </tr>\n",
       "  </thead>\n",
       "  <tbody>\n",
       "    <tr>\n",
       "      <th>1</th>\n",
       "      <td>[3.0]</td>\n",
       "      <td>3.600000e+02</td>\n",
       "    </tr>\n",
       "    <tr>\n",
       "      <th>2</th>\n",
       "      <td>[-0.6000000000000001]</td>\n",
       "      <td>1.612800e+01</td>\n",
       "    </tr>\n",
       "    <tr>\n",
       "      <th>3</th>\n",
       "      <td>[-0.7612800000000001]</td>\n",
       "      <td>1.993091e+01</td>\n",
       "    </tr>\n",
       "    <tr>\n",
       "      <th>4</th>\n",
       "      <td>[-0.9605891420101018]</td>\n",
       "      <td>2.349053e+01</td>\n",
       "    </tr>\n",
       "    <tr>\n",
       "      <th>5</th>\n",
       "      <td>[-1.1954944129044498]</td>\n",
       "      <td>2.533904e+01</td>\n",
       "    </tr>\n",
       "    <tr>\n",
       "      <th>6</th>\n",
       "      <td>[-1.4488848365458096]</td>\n",
       "      <td>2.346529e+01</td>\n",
       "    </tr>\n",
       "    <tr>\n",
       "      <th>7</th>\n",
       "      <td>[-1.683537687896648]</td>\n",
       "      <td>1.715670e+01</td>\n",
       "    </tr>\n",
       "    <tr>\n",
       "      <th>8</th>\n",
       "      <td>[-1.8551046987375075]</td>\n",
       "      <td>9.209287e+00</td>\n",
       "    </tr>\n",
       "    <tr>\n",
       "      <th>9</th>\n",
       "      <td>[-1.9471975697570583]</td>\n",
       "      <td>3.636256e+00</td>\n",
       "    </tr>\n",
       "    <tr>\n",
       "      <th>10</th>\n",
       "      <td>[-1.9835601277416384]</td>\n",
       "      <td>1.167508e+00</td>\n",
       "    </tr>\n",
       "    <tr>\n",
       "      <th>11</th>\n",
       "      <td>[-1.995235207311065]</td>\n",
       "      <td>3.417042e-01</td>\n",
       "    </tr>\n",
       "    <tr>\n",
       "      <th>12</th>\n",
       "      <td>[-1.9986522490786303]</td>\n",
       "      <td>9.692911e-02</td>\n",
       "    </tr>\n",
       "    <tr>\n",
       "      <th>13</th>\n",
       "      <td>[-1.9996215401762607]</td>\n",
       "      <td>2.724051e-02</td>\n",
       "    </tr>\n",
       "    <tr>\n",
       "      <th>14</th>\n",
       "      <td>[-1.999893945316755]</td>\n",
       "      <td>7.635262e-03</td>\n",
       "    </tr>\n",
       "    <tr>\n",
       "      <th>15</th>\n",
       "      <td>[-1.9999702979402771]</td>\n",
       "      <td>2.138495e-03</td>\n",
       "    </tr>\n",
       "    <tr>\n",
       "      <th>16</th>\n",
       "      <td>[-1.9999916828939535]</td>\n",
       "      <td>5.988275e-04</td>\n",
       "    </tr>\n",
       "    <tr>\n",
       "      <th>17</th>\n",
       "      <td>[-1.9999976711688026]</td>\n",
       "      <td>1.676755e-04</td>\n",
       "    </tr>\n",
       "    <tr>\n",
       "      <th>18</th>\n",
       "      <td>[-1.9999993479240106]</td>\n",
       "      <td>4.694945e-05</td>\n",
       "    </tr>\n",
       "    <tr>\n",
       "      <th>19</th>\n",
       "      <td>[-1.9999998174184679]</td>\n",
       "      <td>1.314587e-05</td>\n",
       "    </tr>\n",
       "    <tr>\n",
       "      <th>20</th>\n",
       "      <td>[-1.999999948877151]</td>\n",
       "      <td>3.680845e-06</td>\n",
       "    </tr>\n",
       "    <tr>\n",
       "      <th>21</th>\n",
       "      <td>[-1.9999999856856008]</td>\n",
       "      <td>1.030637e-06</td>\n",
       "    </tr>\n",
       "    <tr>\n",
       "      <th>22</th>\n",
       "      <td>[-1.999999995991968]</td>\n",
       "      <td>2.885783e-07</td>\n",
       "    </tr>\n",
       "    <tr>\n",
       "      <th>23</th>\n",
       "      <td>[-1.9999999988777513]</td>\n",
       "      <td>8.080192e-08</td>\n",
       "    </tr>\n",
       "    <tr>\n",
       "      <th>24</th>\n",
       "      <td>[-1.9999999996857705]</td>\n",
       "      <td>2.262453e-08</td>\n",
       "    </tr>\n",
       "    <tr>\n",
       "      <th>25</th>\n",
       "      <td>[-1.9999999999120157]</td>\n",
       "      <td>6.334879e-09</td>\n",
       "    </tr>\n",
       "    <tr>\n",
       "      <th>26</th>\n",
       "      <td>[-1.9999999999753646]</td>\n",
       "      <td>1.773749e-09</td>\n",
       "    </tr>\n",
       "    <tr>\n",
       "      <th>27</th>\n",
       "      <td>[-1.9999999999931022]</td>\n",
       "      <td>4.966338e-10</td>\n",
       "    </tr>\n",
       "    <tr>\n",
       "      <th>28</th>\n",
       "      <td>[-1.9999999999980684]</td>\n",
       "      <td>1.390816e-10</td>\n",
       "    </tr>\n",
       "    <tr>\n",
       "      <th>29</th>\n",
       "      <td>[-1.9999999999994593]</td>\n",
       "      <td>3.893774e-11</td>\n",
       "    </tr>\n",
       "    <tr>\n",
       "      <th>30</th>\n",
       "      <td>[-1.9999999999998488]</td>\n",
       "      <td>1.087841e-11</td>\n",
       "    </tr>\n",
       "    <tr>\n",
       "      <th>31</th>\n",
       "      <td>[-1.9999999999999576]</td>\n",
       "      <td>3.062439e-12</td>\n",
       "    </tr>\n",
       "    <tr>\n",
       "      <th>32</th>\n",
       "      <td>[-1.9999999999999882]</td>\n",
       "      <td>8.384404e-13</td>\n",
       "    </tr>\n",
       "  </tbody>\n",
       "</table>\n",
       "</div>"
      ],
      "text/plain": [
       "                              Xi    Tolerancia\n",
       "Iteración                                     \n",
       "1                          [3.0]  3.600000e+02\n",
       "2          [-0.6000000000000001]  1.612800e+01\n",
       "3          [-0.7612800000000001]  1.993091e+01\n",
       "4          [-0.9605891420101018]  2.349053e+01\n",
       "5          [-1.1954944129044498]  2.533904e+01\n",
       "6          [-1.4488848365458096]  2.346529e+01\n",
       "7           [-1.683537687896648]  1.715670e+01\n",
       "8          [-1.8551046987375075]  9.209287e+00\n",
       "9          [-1.9471975697570583]  3.636256e+00\n",
       "10         [-1.9835601277416384]  1.167508e+00\n",
       "11          [-1.995235207311065]  3.417042e-01\n",
       "12         [-1.9986522490786303]  9.692911e-02\n",
       "13         [-1.9996215401762607]  2.724051e-02\n",
       "14          [-1.999893945316755]  7.635262e-03\n",
       "15         [-1.9999702979402771]  2.138495e-03\n",
       "16         [-1.9999916828939535]  5.988275e-04\n",
       "17         [-1.9999976711688026]  1.676755e-04\n",
       "18         [-1.9999993479240106]  4.694945e-05\n",
       "19         [-1.9999998174184679]  1.314587e-05\n",
       "20          [-1.999999948877151]  3.680845e-06\n",
       "21         [-1.9999999856856008]  1.030637e-06\n",
       "22          [-1.999999995991968]  2.885783e-07\n",
       "23         [-1.9999999988777513]  8.080192e-08\n",
       "24         [-1.9999999996857705]  2.262453e-08\n",
       "25         [-1.9999999999120157]  6.334879e-09\n",
       "26         [-1.9999999999753646]  1.773749e-09\n",
       "27         [-1.9999999999931022]  4.966338e-10\n",
       "28         [-1.9999999999980684]  1.390816e-10\n",
       "29         [-1.9999999999994593]  3.893774e-11\n",
       "30         [-1.9999999999998488]  1.087841e-11\n",
       "31         [-1.9999999999999576]  3.062439e-12\n",
       "32         [-1.9999999999999882]  8.384404e-13"
      ]
     },
     "metadata": {},
     "output_type": "display_data"
    }
   ],
   "source": [
    "x0 = [3]\n",
    "gamma = 0.01\n",
    "tol = 1e-12\n",
    "maxit = 1e5\n",
    "\n",
    "result, i, dic = gradient_descent(grad_f=grad_f, x0=x0, gamma=gamma, tol=tol, maxit=maxit)\n",
    "print(f'\\nPara f(x):\\nPunto inicial: {x0}.\\nUn gamma: {gamma}.\\nUna tolerancia máxima: {tol}.\\n\\nSe obtuvo:\\nEn una iteración de {i}/{maxit}.\\nUn resultado de {result} aproximado.\\n')\n",
    "df = pd.DataFrame(dic)\n",
    "df.set_index('Iteración', inplace=True)\n",
    "display(df)"
   ]
  },
  {
   "cell_type": "markdown",
   "id": "c8148e97-aaab-412b-a70d-dec39252ed02",
   "metadata": {},
   "source": [
    "* [0.5 puntos] Contrasta e interpreta los dos resultados obtenidos en los apartados anteriores y compáralos con los mínimos locales obtenidos analíticamente. ¿Qué influencia puede llegar a tener la elección del ratio de aprendizaje $γ$?"
   ]
  },
  {
   "cell_type": "markdown",
   "id": "2ac0b037-021e-465c-b588-7f1c49bf00b1",
   "metadata": {},
   "source": [
    "> En ambos casos, el punto inicial como la tolerancia máxima y el máximo número de iteraciones es el mismo. Dejando evidente que la diferencia de resultados dependió en este caso de $\\gamma$. <br>\n",
    "> * Para un valor de $\\gamma$ demasiado pequeño, puede llevar a una convergencia demasiada lenta como se observa en el primer caso donde se necesitó $832$ iteraciones para alcanzar un resultado. <br>\n",
    "> * Para un valor de $\\gamma$ demasiado grande, puede provocar que el algoritmo diverja o que oscile alrededor del mínimo como se observa en el segundo caso donde se necesitó solo $32$ iteraciones para alcanzar un resultado pero es mayor que el primero. <br>"
   ]
  },
  {
   "cell_type": "markdown",
   "id": "22672a5c-9a76-4c5f-80eb-7500bf71f109",
   "metadata": {},
   "source": [
    "* [0.5 puntos] Aplica nuevamente el método sobre $f(x)$ con $x_0 = 3$, $γ = 0.1$, $tol=1e^{-12}$, $maxit=1e^5$. Interpreta el resultado."
   ]
  },
  {
   "cell_type": "code",
   "execution_count": 22,
   "id": "6394cd5a-efab-4625-8ca3-5bca148556f9",
   "metadata": {},
   "outputs": [
    {
     "name": "stderr",
     "output_type": "stream",
     "text": [
      "<lambdifygenerated-2>:2: RuntimeWarning: overflow encountered in scalar power\n",
      "  return 12*x**3 + 12*x**2 - 24*x\n",
      "<lambdifygenerated-2>:2: RuntimeWarning: invalid value encountered in scalar subtract\n",
      "  return 12*x**3 + 12*x**2 - 24*x\n"
     ]
    },
    {
     "name": "stdout",
     "output_type": "stream",
     "text": [
      "\n",
      "Para f(x):\n",
      "Punto inicial: [3].\n",
      "Un gamma: 0.1.\n",
      "Una tolerancia máxima: 1e-12.\n",
      "\n",
      "Se obtuvo:\n",
      "En una iteración de 100000/100000.0.\n",
      "Un resultado de [nan] aproximado.\n",
      "\n"
     ]
    },
    {
     "data": {
      "text/html": [
       "<div>\n",
       "<style scoped>\n",
       "    .dataframe tbody tr th:only-of-type {\n",
       "        vertical-align: middle;\n",
       "    }\n",
       "\n",
       "    .dataframe tbody tr th {\n",
       "        vertical-align: top;\n",
       "    }\n",
       "\n",
       "    .dataframe thead th {\n",
       "        text-align: right;\n",
       "    }\n",
       "</style>\n",
       "<table border=\"1\" class=\"dataframe\">\n",
       "  <thead>\n",
       "    <tr style=\"text-align: right;\">\n",
       "      <th></th>\n",
       "      <th>Xi</th>\n",
       "      <th>Tolerancia</th>\n",
       "    </tr>\n",
       "    <tr>\n",
       "      <th>Iteración</th>\n",
       "      <th></th>\n",
       "      <th></th>\n",
       "    </tr>\n",
       "  </thead>\n",
       "  <tbody>\n",
       "    <tr>\n",
       "      <th>1</th>\n",
       "      <td>[3.0]</td>\n",
       "      <td>3.600000e+02</td>\n",
       "    </tr>\n",
       "    <tr>\n",
       "      <th>2</th>\n",
       "      <td>[-33.0]</td>\n",
       "      <td>4.173840e+05</td>\n",
       "    </tr>\n",
       "    <tr>\n",
       "      <th>3</th>\n",
       "      <td>[41705.4]</td>\n",
       "      <td>8.704995e+14</td>\n",
       "    </tr>\n",
       "    <tr>\n",
       "      <th>4</th>\n",
       "      <td>[-87049951065956.78]</td>\n",
       "      <td>7.915655e+42</td>\n",
       "    </tr>\n",
       "    <tr>\n",
       "      <th>5</th>\n",
       "      <td>[7.915654682433035e+41]</td>\n",
       "      <td>5.951710e+126</td>\n",
       "    </tr>\n",
       "    <tr>\n",
       "      <th>...</th>\n",
       "      <td>...</td>\n",
       "      <td>...</td>\n",
       "    </tr>\n",
       "    <tr>\n",
       "      <th>99996</th>\n",
       "      <td>[nan]</td>\n",
       "      <td>NaN</td>\n",
       "    </tr>\n",
       "    <tr>\n",
       "      <th>99997</th>\n",
       "      <td>[nan]</td>\n",
       "      <td>NaN</td>\n",
       "    </tr>\n",
       "    <tr>\n",
       "      <th>99998</th>\n",
       "      <td>[nan]</td>\n",
       "      <td>NaN</td>\n",
       "    </tr>\n",
       "    <tr>\n",
       "      <th>99999</th>\n",
       "      <td>[nan]</td>\n",
       "      <td>NaN</td>\n",
       "    </tr>\n",
       "    <tr>\n",
       "      <th>100000</th>\n",
       "      <td>[nan]</td>\n",
       "      <td>NaN</td>\n",
       "    </tr>\n",
       "  </tbody>\n",
       "</table>\n",
       "<p>100000 rows × 2 columns</p>\n",
       "</div>"
      ],
      "text/plain": [
       "                                Xi     Tolerancia\n",
       "Iteración                                        \n",
       "1                            [3.0]   3.600000e+02\n",
       "2                          [-33.0]   4.173840e+05\n",
       "3                        [41705.4]   8.704995e+14\n",
       "4             [-87049951065956.78]   7.915655e+42\n",
       "5          [7.915654682433035e+41]  5.951710e+126\n",
       "...                            ...            ...\n",
       "99996                        [nan]            NaN\n",
       "99997                        [nan]            NaN\n",
       "99998                        [nan]            NaN\n",
       "99999                        [nan]            NaN\n",
       "100000                       [nan]            NaN\n",
       "\n",
       "[100000 rows x 2 columns]"
      ]
     },
     "metadata": {},
     "output_type": "display_data"
    }
   ],
   "source": [
    "x0 = [3]\n",
    "gamma = 0.1\n",
    "tol = 1e-12\n",
    "maxit = 1e5\n",
    "\n",
    "result, i, dic = gradient_descent(grad_f=grad_f, x0=x0, gamma=gamma, tol=tol, maxit=maxit)\n",
    "print(f'\\nPara f(x):\\nPunto inicial: {x0}.\\nUn gamma: {gamma}.\\nUna tolerancia máxima: {tol}.\\n\\nSe obtuvo:\\nEn una iteración de {i}/{maxit}.\\nUn resultado de {result} aproximado.\\n')\n",
    "df = pd.DataFrame(dic)\n",
    "df.set_index('Iteración', inplace=True)\n",
    "display(df)"
   ]
  },
  {
   "cell_type": "markdown",
   "id": "028c0a7a-1c50-4389-bf87-a6fa09605f67",
   "metadata": {},
   "source": [
    "> En este caso el valor de $\\gamma$ es mayor que el segundo caso, aplicando que oscile alrededor del mínimo pero también se aleja al mismo. Da pasos demasiado grandes en cada iteración, lo que puede llevar a una divergencia o a resultados numéricamente inestables."
   ]
  },
  {
   "cell_type": "markdown",
   "id": "01d7470e-67ce-4063-97ee-77e0e81b91d3",
   "metadata": {},
   "source": [
    "* [0.5 puntos] Finalmente, aplica el método sobre $f(x)$ con $x_0 = 0$, $γ = 0.001$, $tol=1e^{-12}$, $maxit=1e^5$. Interpreta el resultado y compáralo con el estudio analítico de $f$. ¿Se trata de un resultado deseable? ¿Por qué? ¿A qué se debe este fenómeno?"
   ]
  },
  {
   "cell_type": "code",
   "execution_count": 23,
   "id": "49c6498b-ae16-4dbd-84b0-78c42a13920a",
   "metadata": {},
   "outputs": [
    {
     "name": "stdout",
     "output_type": "stream",
     "text": [
      "\n",
      "Para f(x):\n",
      "Punto inicial: [0].\n",
      "Un gamma: 0.001.\n",
      "Una tolerancia máxima: 1e-12.\n",
      "\n",
      "Se obtuvo:\n",
      "En una iteración de 1/100000.0.\n",
      "Un resultado de [0.] aproximado.\n",
      "\n"
     ]
    },
    {
     "data": {
      "text/html": [
       "<div>\n",
       "<style scoped>\n",
       "    .dataframe tbody tr th:only-of-type {\n",
       "        vertical-align: middle;\n",
       "    }\n",
       "\n",
       "    .dataframe tbody tr th {\n",
       "        vertical-align: top;\n",
       "    }\n",
       "\n",
       "    .dataframe thead th {\n",
       "        text-align: right;\n",
       "    }\n",
       "</style>\n",
       "<table border=\"1\" class=\"dataframe\">\n",
       "  <thead>\n",
       "    <tr style=\"text-align: right;\">\n",
       "      <th></th>\n",
       "      <th>Xi</th>\n",
       "      <th>Tolerancia</th>\n",
       "    </tr>\n",
       "    <tr>\n",
       "      <th>Iteración</th>\n",
       "      <th></th>\n",
       "      <th></th>\n",
       "    </tr>\n",
       "  </thead>\n",
       "  <tbody>\n",
       "    <tr>\n",
       "      <th>1</th>\n",
       "      <td>[0.0]</td>\n",
       "      <td>0.0</td>\n",
       "    </tr>\n",
       "  </tbody>\n",
       "</table>\n",
       "</div>"
      ],
      "text/plain": [
       "              Xi  Tolerancia\n",
       "Iteración                   \n",
       "1          [0.0]         0.0"
      ]
     },
     "metadata": {},
     "output_type": "display_data"
    }
   ],
   "source": [
    "x0 = [0]\n",
    "gamma = 0.001\n",
    "tol = 1e-12\n",
    "maxit = 1e5\n",
    "\n",
    "result, i, dic = gradient_descent(grad_f=grad_f, x0=x0, gamma=gamma, tol=tol, maxit=maxit)\n",
    "print(f'\\nPara f(x):\\nPunto inicial: {x0}.\\nUn gamma: {gamma}.\\nUna tolerancia máxima: {tol}.\\n\\nSe obtuvo:\\nEn una iteración de {i}/{maxit}.\\nUn resultado de {result} aproximado.\\n')\n",
    "df = pd.DataFrame(dic)\n",
    "df.set_index('Iteración', inplace=True)\n",
    "display(df)"
   ]
  },
  {
   "cell_type": "markdown",
   "id": "2907c2b0-3d88-4b9a-9ad7-bead365911c3",
   "metadata": {},
   "source": [
    "> En este caso tenemos el mismo valor de $\\gamma$ que el primer caso, lo que cambia es el punto inicial. Se obseva que se obtuvo una sola iteración siendo la tolerancia menor a la máxima permitida, que la tolerancia es $0$ dando a conocer que el punto inicial $x_0=0$ es el mínimo que buscabamos."
   ]
  },
  {
   "cell_type": "markdown",
   "id": "b17d8257-baf7-45d8-a01b-7de6954da242",
   "metadata": {},
   "source": [
    "c) Sea la función $g : \\mathbb{R}^2 → \\mathbb{R}$ dada por: $$g(x, y) = x^2 + y^3 + 3xy + 1$$"
   ]
  },
  {
   "cell_type": "code",
   "execution_count": 24,
   "id": "e7f96184-3a97-4447-868c-e4477bef4a00",
   "metadata": {},
   "outputs": [],
   "source": [
    "x, y = sp.symbols('x y') # Variables independientes\n",
    "\n",
    "g_sym = x**2 + y**3 + 3*x*y + 1 # Funcion\n",
    "grad_g_sym = sp.Matrix([sp.diff(g_sym, var) for var in (x, y)]) # Gradiente\n",
    "\n",
    "g = sp.lambdify((x, y), g_sym, 'numpy') # Funcion lambda de g\n",
    "grad_g = sp.lambdify((x, y), grad_g_sym, 'numpy') # Funcion lambda del gradiente de g"
   ]
  },
  {
   "cell_type": "markdown",
   "id": "6d170c56-38f2-4dae-8f3d-279b594099d2",
   "metadata": {},
   "source": [
    "* [0.5 puntos] Aplíquese el método sobre $g(x, y)$ con $x_0 = (−1, 1)$, $γ = 0.01$, $tol=1e^{-12}$, $maxit=1e^5$."
   ]
  },
  {
   "cell_type": "code",
   "execution_count": 25,
   "id": "02c73e3c-f277-4cbc-ba0d-d5bb104dcd6e",
   "metadata": {},
   "outputs": [
    {
     "name": "stdout",
     "output_type": "stream",
     "text": [
      "\n",
      "Para g(x):\n",
      "Punto inicial: [-1, 1].\n",
      "Un gamma: 0.01.\n",
      "Una tolerancia máxima: 1e-12.\n",
      "\n",
      "Se obtuvo:\n",
      "En una iteración de 3140/100000.0.\n",
      "Un resultado de [-2.25  1.5 ] aproximado.\n",
      "\n"
     ]
    },
    {
     "data": {
      "text/html": [
       "<div>\n",
       "<style scoped>\n",
       "    .dataframe tbody tr th:only-of-type {\n",
       "        vertical-align: middle;\n",
       "    }\n",
       "\n",
       "    .dataframe tbody tr th {\n",
       "        vertical-align: top;\n",
       "    }\n",
       "\n",
       "    .dataframe thead th {\n",
       "        text-align: right;\n",
       "    }\n",
       "</style>\n",
       "<table border=\"1\" class=\"dataframe\">\n",
       "  <thead>\n",
       "    <tr style=\"text-align: right;\">\n",
       "      <th></th>\n",
       "      <th>Xi</th>\n",
       "      <th>Tolerancia</th>\n",
       "    </tr>\n",
       "    <tr>\n",
       "      <th>Iteración</th>\n",
       "      <th></th>\n",
       "      <th></th>\n",
       "    </tr>\n",
       "  </thead>\n",
       "  <tbody>\n",
       "    <tr>\n",
       "      <th>1</th>\n",
       "      <td>[-1.0, 1.0]</td>\n",
       "      <td>1.000000e+00</td>\n",
       "    </tr>\n",
       "    <tr>\n",
       "      <th>2</th>\n",
       "      <td>[-1.01, 1.0]</td>\n",
       "      <td>9.804591e-01</td>\n",
       "    </tr>\n",
       "    <tr>\n",
       "      <th>3</th>\n",
       "      <td>[-1.0198, 1.0003]</td>\n",
       "      <td>9.630241e-01</td>\n",
       "    </tr>\n",
       "    <tr>\n",
       "      <th>4</th>\n",
       "      <td>[-1.0294130000000001, 1.0008759972999999]</td>\n",
       "      <td>9.474429e-01</td>\n",
       "    </tr>\n",
       "    <tr>\n",
       "      <th>5</th>\n",
       "      <td>[-1.0388510199190002, 1.0017058044408618]</td>\n",
       "      <td>9.334886e-01</td>\n",
       "    </tr>\n",
       "    <tr>\n",
       "      <th>...</th>\n",
       "      <td>...</td>\n",
       "      <td>...</td>\n",
       "    </tr>\n",
       "    <tr>\n",
       "      <th>3136</th>\n",
       "      <td>[-2.2499999999989093, 1.4999999999995965]</td>\n",
       "      <td>1.034972e-12</td>\n",
       "    </tr>\n",
       "    <tr>\n",
       "      <th>3137</th>\n",
       "      <td>[-2.249999999998919, 1.4999999999996]</td>\n",
       "      <td>1.025717e-12</td>\n",
       "    </tr>\n",
       "    <tr>\n",
       "      <th>3138</th>\n",
       "      <td>[-2.249999999998929, 1.4999999999996037]</td>\n",
       "      <td>1.016463e-12</td>\n",
       "    </tr>\n",
       "    <tr>\n",
       "      <th>3139</th>\n",
       "      <td>[-2.249999999998938, 1.4999999999996072]</td>\n",
       "      <td>1.007733e-12</td>\n",
       "    </tr>\n",
       "    <tr>\n",
       "      <th>3140</th>\n",
       "      <td>[-2.2499999999989475, 1.4999999999996108]</td>\n",
       "      <td>9.990033e-13</td>\n",
       "    </tr>\n",
       "  </tbody>\n",
       "</table>\n",
       "<p>3140 rows × 2 columns</p>\n",
       "</div>"
      ],
      "text/plain": [
       "                                                  Xi    Tolerancia\n",
       "Iteración                                                         \n",
       "1                                        [-1.0, 1.0]  1.000000e+00\n",
       "2                                       [-1.01, 1.0]  9.804591e-01\n",
       "3                                  [-1.0198, 1.0003]  9.630241e-01\n",
       "4          [-1.0294130000000001, 1.0008759972999999]  9.474429e-01\n",
       "5          [-1.0388510199190002, 1.0017058044408618]  9.334886e-01\n",
       "...                                              ...           ...\n",
       "3136       [-2.2499999999989093, 1.4999999999995965]  1.034972e-12\n",
       "3137           [-2.249999999998919, 1.4999999999996]  1.025717e-12\n",
       "3138        [-2.249999999998929, 1.4999999999996037]  1.016463e-12\n",
       "3139        [-2.249999999998938, 1.4999999999996072]  1.007733e-12\n",
       "3140       [-2.2499999999989475, 1.4999999999996108]  9.990033e-13\n",
       "\n",
       "[3140 rows x 2 columns]"
      ]
     },
     "metadata": {},
     "output_type": "display_data"
    }
   ],
   "source": [
    "x0 = [-1, 1]\n",
    "gamma = 0.01\n",
    "tol = 1e-12\n",
    "maxit = 1e5\n",
    "\n",
    "result, i, dic = gradient_descent(grad_f=grad_g, x0=x0, gamma=gamma, tol=tol, maxit=maxit)\n",
    "print(f'\\nPara g(x):\\nPunto inicial: {x0}.\\nUn gamma: {gamma}.\\nUna tolerancia máxima: {tol}.\\n\\nSe obtuvo:\\nEn una iteración de {i}/{maxit}.\\nUn resultado de {result} aproximado.\\n')\n",
    "df = pd.DataFrame(dic)\n",
    "df.set_index('Iteración', inplace=True)\n",
    "display(df)"
   ]
  },
  {
   "cell_type": "markdown",
   "id": "5c45b6e2-7e6a-4aa2-bb24-861cda650909",
   "metadata": {},
   "source": [
    "* [0.5 puntos] ¿Qué ocurre si ahora partimos de $x_0 = (0, 0)$? ¿Se obtiene un resultado deseable?"
   ]
  },
  {
   "cell_type": "code",
   "execution_count": 26,
   "id": "2d17f136-4277-4225-9f5e-4a296825fec8",
   "metadata": {},
   "outputs": [
    {
     "name": "stdout",
     "output_type": "stream",
     "text": [
      "\n",
      "Para g(x):\n",
      "Punto inicial: [0, 0].\n",
      "Un gamma: 0.01.\n",
      "Una tolerancia máxima: 1e-12.\n",
      "\n",
      "Se obtuvo:\n",
      "En una iteración de 1/100000.0.\n",
      "Un resultado de [0. 0.] aproximado.\n",
      "\n"
     ]
    },
    {
     "data": {
      "text/html": [
       "<div>\n",
       "<style scoped>\n",
       "    .dataframe tbody tr th:only-of-type {\n",
       "        vertical-align: middle;\n",
       "    }\n",
       "\n",
       "    .dataframe tbody tr th {\n",
       "        vertical-align: top;\n",
       "    }\n",
       "\n",
       "    .dataframe thead th {\n",
       "        text-align: right;\n",
       "    }\n",
       "</style>\n",
       "<table border=\"1\" class=\"dataframe\">\n",
       "  <thead>\n",
       "    <tr style=\"text-align: right;\">\n",
       "      <th></th>\n",
       "      <th>Xi</th>\n",
       "      <th>Tolerancia</th>\n",
       "    </tr>\n",
       "    <tr>\n",
       "      <th>Iteración</th>\n",
       "      <th></th>\n",
       "      <th></th>\n",
       "    </tr>\n",
       "  </thead>\n",
       "  <tbody>\n",
       "    <tr>\n",
       "      <th>1</th>\n",
       "      <td>[0.0, 0.0]</td>\n",
       "      <td>0.0</td>\n",
       "    </tr>\n",
       "  </tbody>\n",
       "</table>\n",
       "</div>"
      ],
      "text/plain": [
       "                   Xi  Tolerancia\n",
       "Iteración                        \n",
       "1          [0.0, 0.0]         0.0"
      ]
     },
     "metadata": {},
     "output_type": "display_data"
    }
   ],
   "source": [
    "x0 = [0, 0]\n",
    "gamma = 0.01\n",
    "tol = 1e-12\n",
    "maxit = 1e5\n",
    "\n",
    "result, i, dic = gradient_descent(grad_f=grad_g, x0=x0, gamma=gamma, tol=tol, maxit=maxit)\n",
    "print(f'\\nPara g(x):\\nPunto inicial: {x0}.\\nUn gamma: {gamma}.\\nUna tolerancia máxima: {tol}.\\n\\nSe obtuvo:\\nEn una iteración de {i}/{maxit}.\\nUn resultado de {result} aproximado.\\n')\n",
    "df = pd.DataFrame(dic)\n",
    "df.set_index('Iteración', inplace=True)\n",
    "display(df)"
   ]
  },
  {
   "cell_type": "markdown",
   "id": "7261a4e7-b117-4e89-ab7e-1aa8a7595a9f",
   "metadata": {},
   "source": [
    "> Los valores de punto inicial ya eran los adecuados y deseados."
   ]
  },
  {
   "cell_type": "markdown",
   "id": "1b82d68f-524f-477c-a91e-a1978e8ec7ed",
   "metadata": {},
   "source": [
    "* [0.5 puntos] Realícese el estudio analítico de la función y utilícese para explicar y contrastar los resultados obtenidos en los dos apartados anteriores."
   ]
  },
  {
   "cell_type": "markdown",
   "id": "9e2f06d4-aafc-43c2-97ca-f36ea547de13",
   "metadata": {},
   "source": [
    "> 1. Dominio: La función está definida para cualquier valore de $x$ e $y$ en los números reales, es decir, el dominio es $\\mathbb{R}^2$.\n",
    "> 2. Simetría: La función no es simétrica respecto al origen, ya que $g(x,y) \\neq g(-x,-y)$.\n",
    "> 3. Puntos críticos: Los puntos críticos se encuentran donde el gradiente de la función es cero. Calculamos el gradiente de $g$ e igualamos a $0$ dando que $3y^2+3x=0$ lo que indica que no tiene una sola solución.\n",
    "> * Primer apartado. <br>\n",
    ">\n",
    "> Muestra un mínimo \"global\" en el punto $[-2.25, 1.5]$ con un valor de función de $0$. El algoritmo de descenso de gradiente logró encontrar este mínimo en $3140$ iteraciones con un valor de $\\gamma$ de $0.01$ y una tolerancia máxima de $1 \\times 10^{-12}$.\n",
    "> * Segundo apartado. <br>\n",
    ">\n",
    "> Muestra un mínimo \"global\" en el punto $[0, 0]$ con un valor de función de $1$. El algoritmo de descenso de gradiente logró encontrar este mínimo en $1$ iteración con un valor de $\\gamma$ de $0.01$ y una tolerancia máxima de $1 \\times 10^{-12}$."
   ]
  },
  {
   "cell_type": "markdown",
   "id": "a93c35c4-221a-4ccd-9bbf-a7b607902c5b",
   "metadata": {},
   "source": [
    "# FIN"
   ]
  }
 ],
 "metadata": {
  "kernelspec": {
   "display_name": "Python 3 (ipykernel)",
   "language": "python",
   "name": "python3"
  },
  "language_info": {
   "codemirror_mode": {
    "name": "ipython",
    "version": 3
   },
   "file_extension": ".py",
   "mimetype": "text/x-python",
   "name": "python",
   "nbconvert_exporter": "python",
   "pygments_lexer": "ipython3",
   "version": "3.11.7"
  }
 },
 "nbformat": 4,
 "nbformat_minor": 5
}
